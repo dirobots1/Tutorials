{
  "nbformat": 4,
  "nbformat_minor": 0,
  "metadata": {
    "colab": {
      "provenance": []
    },
    "kernelspec": {
      "name": "python3",
      "display_name": "Python 3"
    },
    "language_info": {
      "name": "python"
    }
  },
  "cells": [
    {
      "cell_type": "markdown",
      "source": [
        "#Introduction aux bases de Python\n",
        "by Juan Duran\n"
      ],
      "metadata": {
        "id": "6uQhaRIUmYrK"
      }
    },
    {
      "cell_type": "markdown",
      "source": [
        "##1.Google colab"
      ],
      "metadata": {
        "id": "y-LKYDZ-mdIv"
      }
    },
    {
      "cell_type": "markdown",
      "source": [
        "Google colab est le fichier dans lequel on est en ce moment. C'est un fichier **dynamique** qui nous permet d'executer des programmes en python. La prochaine cellule est un example de print:"
      ],
      "metadata": {
        "id": "KTHVhziSmmka"
      }
    },
    {
      "cell_type": "code",
      "source": [
        "print(\"Hello World\")"
      ],
      "metadata": {
        "colab": {
          "base_uri": "https://localhost:8080/"
        },
        "id": "GEp0bnzkl8mO",
        "outputId": "24e9f850-f034-473f-fbd0-ed0ab11d3b32"
      },
      "execution_count": null,
      "outputs": [
        {
          "output_type": "stream",
          "name": "stdout",
          "text": [
            "Hello World\n"
          ]
        }
      ]
    },
    {
      "cell_type": "markdown",
      "source": [
        "Pour l'executer, il faut simplement appuyer sur le bouton \"play\" à gauche. \n",
        "On peut aussi utiliser \"shift+enter\".\n",
        "On peut ajouter des cellules de code ou des cellules de texte à fur et à mesure qu'on construit un document. Pour plus d'information, vous pouvez visiter ce link: https://colab.research.google.com/#scrollTo=gJr_9dXGpJ05"
      ],
      "metadata": {
        "id": "8LUr6B-BnEP9"
      }
    },
    {
      "cell_type": "markdown",
      "source": [
        "##2.Python de base"
      ],
      "metadata": {
        "id": "qajIB682mYED"
      }
    },
    {
      "cell_type": "markdown",
      "source": [
        "###2.1 Commentaires, variables et print"
      ],
      "metadata": {
        "id": "YUZE1ijQn-C7"
      }
    },
    {
      "cell_type": "markdown",
      "source": [
        "\n",
        "* Un commentaire est du texte écrit dans une cellule de code qui n'affecte pas le code. Pour créer un commentaire, on utilise \"#\".\n",
        "* Une variable est un endroit ou on sauvegarde une valeur. Il y a differentes types de variables: Numbers, String, List, Tuple, Dictionary \n",
        "* print est une fonction qui permet d'imprimer dans la console ou le terminal\n"
      ],
      "metadata": {
        "id": "0QiOC4wvoDE9"
      }
    },
    {
      "cell_type": "code",
      "source": [
        "#Ceci est un commentaire\n",
        "\n",
        "#On va créer une variable \"nom\" et on va stocker le string \"Jean\" dans celui-ci\n",
        "nom = \"Jean\"\n",
        "#Maintenant on va imprimer la variable \"nom\" dans la console\n",
        "print(nom)"
      ],
      "metadata": {
        "colab": {
          "base_uri": "https://localhost:8080/"
        },
        "id": "R95GZlFpn1Wf",
        "outputId": "8aaed6bc-9979-459a-e601-62c2c759f027"
      },
      "execution_count": null,
      "outputs": [
        {
          "output_type": "stream",
          "name": "stdout",
          "text": [
            "Jean\n"
          ]
        }
      ]
    },
    {
      "cell_type": "markdown",
      "source": [
        "###2.2 Types de nombres"
      ],
      "metadata": {
        "id": "v7F9QkGgrARU"
      }
    },
    {
      "cell_type": "markdown",
      "source": [
        "On peut trouver 3 types de nombres dans python: les integers, les doubles et les complex numbers. Pour savoir quel est le type, on peut utiliser la fonction \"type\"."
      ],
      "metadata": {
        "id": "k0M90tL1rJtk"
      }
    },
    {
      "cell_type": "code",
      "source": [
        "#Ceci est un integer\n",
        "a = 1\n",
        "#Ceci est un float ou decimal\n",
        "b = 2.2\n",
        "#Ceci est un chiffre complexe\n",
        "c = 3.5 + 6j\n",
        "\n",
        "#Nous allons prendre le type du nombre  et le stocker dans une variable. Apres, nous allons imprimmer cette variable\n",
        "type_du_nombre= type(c)\n",
        "print(type_du_nombre)"
      ],
      "metadata": {
        "colab": {
          "base_uri": "https://localhost:8080/"
        },
        "id": "kkquTMQyrD0-",
        "outputId": "e08a8443-0313-45cb-b06f-a40fe4bd622b"
      },
      "execution_count": null,
      "outputs": [
        {
          "output_type": "stream",
          "name": "stdout",
          "text": [
            "<class 'complex'>\n"
          ]
        }
      ]
    },
    {
      "cell_type": "markdown",
      "source": [
        "Nous pouvons aussi faire des arithmetiques sur ceux-ci"
      ],
      "metadata": {
        "id": "1Cz2PF3zwuFl"
      }
    },
    {
      "cell_type": "code",
      "source": [
        "a=1\n",
        "b=2\n",
        "c=a+b\n",
        "print(c)"
      ],
      "metadata": {
        "colab": {
          "base_uri": "https://localhost:8080/"
        },
        "id": "Y1yq9RWyrvmX",
        "outputId": "709c3e15-561f-42e6-d21b-d63067da1094"
      },
      "execution_count": null,
      "outputs": [
        {
          "output_type": "stream",
          "name": "stdout",
          "text": [
            "3\n"
          ]
        }
      ]
    },
    {
      "cell_type": "markdown",
      "source": [
        "###2.3 Listes"
      ],
      "metadata": {
        "id": "XDF_AzX9xUxZ"
      }
    },
    {
      "cell_type": "markdown",
      "source": [
        "Des Lists c'est des variables qui nous permettent de stocker plusieurs variables. Dans l'exemple suivant, Je vais initialiser une liste de strings, et je vais imprimer chaque element qui est dans la liste. Pour plus de détails, voir ce lien: https://www.tutorialspoint.com/python3/python_lists.htm"
      ],
      "metadata": {
        "id": "6XTNf1rVxYGt"
      }
    },
    {
      "cell_type": "code",
      "source": [
        "Liste = [\"chat\",\"chien\",\"hamster\"]\n",
        "print(Liste[0])\n",
        "print(Liste[1])\n",
        "print(Liste[2])"
      ],
      "metadata": {
        "colab": {
          "base_uri": "https://localhost:8080/"
        },
        "id": "81EP9iyDw2HE",
        "outputId": "51f3b155-f74f-418d-9dd1-b3a500ec6c3e"
      },
      "execution_count": null,
      "outputs": [
        {
          "output_type": "stream",
          "name": "stdout",
          "text": [
            "chat\n",
            "chien\n",
            "hamster\n"
          ]
        }
      ]
    },
    {
      "cell_type": "markdown",
      "source": [
        "###2.4 Operateurs\n"
      ],
      "metadata": {
        "id": "5WCxh7VyyVhk"
      }
    },
    {
      "cell_type": "markdown",
      "source": [
        "* Addition: +\n",
        "* Substraction: -\n",
        "* Multiplication: *\n",
        "* Divison: /\n",
        "* Modulus: %\n",
        "* Exponentiation: **\n",
        "* Floor Division: //\n",
        "* Assignment Operator: =\n",
        "* Egalité: ==\n",
        "* Non Egal:!=\n",
        "* Inegalitées: >,<,>=,<=\n"
      ],
      "metadata": {
        "id": "ydzt2Ua5yj09"
      }
    },
    {
      "cell_type": "markdown",
      "source": [
        "###2.4 Valeurs booleans et if statements"
      ],
      "metadata": {
        "id": "dJv0eN8hzDhJ"
      }
    },
    {
      "cell_type": "markdown",
      "source": [
        "* En plus des variables presentées en haut, il y a les variables booleans. Celles-ci peuvent seulement avoir 2 valeurs: True ou False. \n",
        "* On les utilise dans les \"if statements\" pour determiner si une action devrait se faire. Ci-bas un example de if statement avec des booleans"
      ],
      "metadata": {
        "id": "7BiHTZClzKeb"
      }
    },
    {
      "cell_type": "code",
      "source": [
        "a= True\n",
        "b= False\n",
        "\n",
        "if (a==True):\n",
        "  print(\"a is True\")\n",
        "if (b==True):\n",
        "  print(\"b is True\")"
      ],
      "metadata": {
        "colab": {
          "base_uri": "https://localhost:8080/"
        },
        "id": "p438zjuHyjQF",
        "outputId": "fb606c3c-500c-4f01-8b7a-50024a0a8b4a"
      },
      "execution_count": null,
      "outputs": [
        {
          "output_type": "stream",
          "name": "stdout",
          "text": [
            "a is True\n"
          ]
        }
      ]
    },
    {
      "cell_type": "markdown",
      "source": [
        "Comme on peut le voir, seulement a est \"True\" alors la commande à l'interieur du if statement de \"a\" passe. \n",
        "</br>\n",
        "Nous pouvons Faire des if statements qui s'enchainent:"
      ],
      "metadata": {
        "id": "PkNioBfXztJV"
      }
    },
    {
      "cell_type": "code",
      "source": [
        "a= False\n",
        "b= False\n",
        "if (a==True):\n",
        "  print(\"a is True\")\n",
        "elif (b==True):\n",
        "  print(\"b is True\")\n",
        "else:\n",
        "  print(\"None are True\")"
      ],
      "metadata": {
        "colab": {
          "base_uri": "https://localhost:8080/"
        },
        "id": "efV35Hg-zrtE",
        "outputId": "aa951d12-4806-4569-c493-b227dccb8d2f"
      },
      "execution_count": null,
      "outputs": [
        {
          "output_type": "stream",
          "name": "stdout",
          "text": [
            "None are True\n"
          ]
        }
      ]
    },
    {
      "cell_type": "markdown",
      "source": [
        "###2.5 While loop, continue et break. "
      ],
      "metadata": {
        "id": "q56k3Ya90VBX"
      }
    },
    {
      "cell_type": "markdown",
      "source": [
        "Nous allons maintenant coder un \"while loop\". Nous allons lui faire imprimer un chiffre n, et à chaque iteration, nous allons augmenter sa valeur de 1. Si le chiffre arrive à la valeur \"7\"."
      ],
      "metadata": {
        "id": "O3CHH-It1HL0"
      }
    },
    {
      "cell_type": "code",
      "source": [
        "n = 0\n",
        "while(n<7):\n",
        "  n=n+1\n",
        "  print(n)\n"
      ],
      "metadata": {
        "colab": {
          "base_uri": "https://localhost:8080/"
        },
        "id": "jYfCO7CO0TLh",
        "outputId": "aa31aa20-b384-4367-ffa4-59b271f89af0"
      },
      "execution_count": null,
      "outputs": [
        {
          "output_type": "stream",
          "name": "stdout",
          "text": [
            "1\n",
            "2\n",
            "3\n",
            "4\n",
            "5\n",
            "6\n",
            "7\n"
          ]
        }
      ]
    },
    {
      "cell_type": "markdown",
      "source": [
        "Maintenant, nous allons le faire arreter quand n=5 avec un \"break\"."
      ],
      "metadata": {
        "id": "mNKQd3Iy1tyV"
      }
    },
    {
      "cell_type": "code",
      "source": [
        "n = 0\n",
        "while(n<7):\n",
        "  n=n+1\n",
        "  if n==5:\n",
        "    break\n",
        "  print(n)\n",
        "\n"
      ],
      "metadata": {
        "colab": {
          "base_uri": "https://localhost:8080/"
        },
        "id": "O7BXydQq1oB-",
        "outputId": "ee8dbb40-2187-46b3-e6cd-d041441773e6"
      },
      "execution_count": null,
      "outputs": [
        {
          "output_type": "stream",
          "name": "stdout",
          "text": [
            "1\n",
            "2\n",
            "3\n",
            "4\n"
          ]
        }
      ]
    },
    {
      "cell_type": "markdown",
      "source": [
        "Finalement, nous allons imprimer tous les valeurs, excepté n=5. Pour se faire, nous allons utiliser la commande \"continue\" qui fait le while loop completement ignorer l'iteration."
      ],
      "metadata": {
        "id": "L8rYMwk82EFh"
      }
    },
    {
      "cell_type": "code",
      "source": [
        "n = 0\n",
        "while(n<7):\n",
        "  n=n+1\n",
        "  if n==5:\n",
        "    continue\n",
        "  print(n)\n"
      ],
      "metadata": {
        "colab": {
          "base_uri": "https://localhost:8080/"
        },
        "id": "9EjCGUCd11wm",
        "outputId": "5f70659d-4a8e-4435-e4cc-b3403052484d"
      },
      "execution_count": null,
      "outputs": [
        {
          "output_type": "stream",
          "name": "stdout",
          "text": [
            "1\n",
            "2\n",
            "3\n",
            "4\n",
            "6\n",
            "7\n"
          ]
        }
      ]
    },
    {
      "cell_type": "markdown",
      "source": [
        "###2.6 For loops"
      ],
      "metadata": {
        "id": "su28mF1y2sdS"
      }
    },
    {
      "cell_type": "markdown",
      "source": [
        "Celle-ci nous permet d'iterer à l'interieur d'une liste. \n"
      ],
      "metadata": {
        "id": "DupYpONS25yI"
      }
    },
    {
      "cell_type": "code",
      "source": [
        "liste = [\"chats\",\"chiens\",\"chevaux\",\"hamsters\",\"canards\",\"grenouilles\",\"vaches\"]"
      ],
      "metadata": {
        "id": "4lOZ6Vpv2d01"
      },
      "execution_count": null,
      "outputs": []
    },
    {
      "cell_type": "code",
      "source": [
        "for element in liste:\n",
        "  print(element)"
      ],
      "metadata": {
        "colab": {
          "base_uri": "https://localhost:8080/"
        },
        "id": "5Zyw6EIH3Dng",
        "outputId": "6e21a34f-e4bf-4e0d-8bde-4dc00e81d6c8"
      },
      "execution_count": null,
      "outputs": [
        {
          "output_type": "stream",
          "name": "stdout",
          "text": [
            "chats\n",
            "chiens\n",
            "chevaux\n",
            "hamsters\n",
            "canards\n",
            "grenouilles\n",
            "vaches\n"
          ]
        }
      ]
    },
    {
      "cell_type": "markdown",
      "source": [
        "###2.7 fonctions"
      ],
      "metadata": {
        "id": "9gRa3NCE3Urq"
      }
    },
    {
      "cell_type": "markdown",
      "source": [
        "Une fonction est un programme qui nous permet de faire une tache specifique, comme ca, on n'a pas besoin de re-coder à chaque fois qu'on essaye de faire une tache. \n",
        "Ci-bas on a une fonction qui calcule la moyenne d'une liste de nombres. "
      ],
      "metadata": {
        "id": "gqWlmVKS333f"
      }
    },
    {
      "cell_type": "code",
      "source": [
        "def calcul_moyenne(liste):\n",
        "  somme_des_chiffres = 0\n",
        "  for c in liste:\n",
        "    somme_des_chiffres = somme_des_chiffres + c\n",
        "\n",
        "  nombre_de_chiffres = len(liste)\n",
        "\n",
        "  moyenne = somme_des_chiffres/nombre_de_chiffres\n",
        "  return moyenne"
      ],
      "metadata": {
        "id": "BHdEseI64hVl"
      },
      "execution_count": null,
      "outputs": []
    },
    {
      "cell_type": "code",
      "source": [
        "example = [1,2,3,4,5,6]\n",
        "moyenne = calcul_moyenne(example)\n",
        "print(moyenne)"
      ],
      "metadata": {
        "colab": {
          "base_uri": "https://localhost:8080/"
        },
        "id": "tV-BkXzK40WW",
        "outputId": "f88773bc-ebbb-4741-85a1-9d07a33f897c"
      },
      "execution_count": null,
      "outputs": [
        {
          "output_type": "stream",
          "name": "stdout",
          "text": [
            "3.5\n"
          ]
        }
      ]
    },
    {
      "cell_type": "markdown",
      "source": [
        "###2.8 Libraries"
      ],
      "metadata": {
        "id": "rgAkY2Cu5y02"
      }
    },
    {
      "cell_type": "markdown",
      "source": [
        "Une \"library\" est une collection de fonctions et utilitées pour performer des taches. Nous allons importer la library \"numpy\" qui a la fonction \"mean\" qui nous permet de calculer la moyenne d'une liste."
      ],
      "metadata": {
        "id": "ch45oTsf33_m"
      }
    },
    {
      "cell_type": "code",
      "source": [
        "import numpy\n",
        "example = [1,2,3,4,5,6]\n",
        "moyenne = numpy.mean(example)\n",
        "print(moyenne)"
      ],
      "metadata": {
        "colab": {
          "base_uri": "https://localhost:8080/"
        },
        "id": "QJWSKhL-3Max",
        "outputId": "a01a64e3-1d1d-468a-eba1-adcf835c7eae"
      },
      "execution_count": null,
      "outputs": [
        {
          "output_type": "stream",
          "name": "stdout",
          "text": [
            "3.5\n"
          ]
        }
      ]
    },
    {
      "cell_type": "markdown",
      "source": [
        "###2.9 Ouverture de fichiers"
      ],
      "metadata": {
        "id": "oSh0LA7g7VjT"
      }
    },
    {
      "cell_type": "markdown",
      "source": [
        "Nous allons maintenant aller chercher les valeurs dans https://github.com/simonseo/schedulinglab/blob/master/random-numbers.txt et les mettre dans une liste. Pour faire cela, on utilise la library urllib comme ci-dessous:"
      ],
      "metadata": {
        "id": "n_KrsWit-uQI"
      }
    },
    {
      "cell_type": "code",
      "source": [
        "import urllib.request\n",
        "\n",
        "with urllib.request.urlopen(\"https://github.com/simonseo/schedulinglab/blob/master/random-numbers.txt\") as url:\n",
        "    liste = list(url.read())\n",
        "\n",
        "\n",
        "\n"
      ],
      "metadata": {
        "id": "1t2RKQR58PnQ"
      },
      "execution_count": null,
      "outputs": []
    },
    {
      "cell_type": "markdown",
      "source": [
        "Voici les 10 premiers elements de cette liste:"
      ],
      "metadata": {
        "id": "0CTRstQi_H1O"
      }
    },
    {
      "cell_type": "code",
      "source": [
        "print(liste[0:10])"
      ],
      "metadata": {
        "colab": {
          "base_uri": "https://localhost:8080/"
        },
        "id": "hiZWm4aM--pN",
        "outputId": "2fe4a631-f37b-4908-c8e2-2af392da8386"
      },
      "execution_count": null,
      "outputs": [
        {
          "output_type": "stream",
          "name": "stdout",
          "text": [
            "[10, 10, 10, 10, 10, 10, 10, 60, 33, 68]\n"
          ]
        }
      ]
    },
    {
      "cell_type": "markdown",
      "source": [
        "###2.9 Visualisation"
      ],
      "metadata": {
        "id": "nBTm6DHt_SV0"
      }
    },
    {
      "cell_type": "markdown",
      "source": [
        "Nous aimerions maintenant visualiser ces valeurs. Nous allons le faire avec la library matplotlib"
      ],
      "metadata": {
        "id": "aBVOrRk4_Unt"
      }
    },
    {
      "cell_type": "code",
      "source": [
        "import matplotlib.pyplot as plt\n",
        "x= [1,2,3,4,5,6,7,8,9,10]\n",
        "y = liste[0:10]\n",
        "plt.plot(x,y)"
      ],
      "metadata": {
        "id": "pA8WJAWg8fjp",
        "colab": {
          "base_uri": "https://localhost:8080/",
          "height": 283
        },
        "outputId": "f798b157-2f12-4f24-e1f9-3c6b2b8ceb4a"
      },
      "execution_count": null,
      "outputs": [
        {
          "output_type": "execute_result",
          "data": {
            "text/plain": [
              "[<matplotlib.lines.Line2D at 0x7feec5e44e50>]"
            ]
          },
          "metadata": {},
          "execution_count": 39
        },
        {
          "output_type": "display_data",
          "data": {
            "text/plain": [
              "<Figure size 432x288 with 1 Axes>"
            ],
            "image/png": "[encoded data removed]"
          },
          "metadata": {
            "needs_background": "light"
          }
        }
      ]
    },
    {
      "cell_type": "code",
      "source": [],
      "metadata": {
        "id": "GnBwtp2T_llV"
      },
      "execution_count": null,
      "outputs": []
    }
  ]
}